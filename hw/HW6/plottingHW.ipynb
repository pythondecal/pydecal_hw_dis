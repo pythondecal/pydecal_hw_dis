{
 "cells": [
  {
   "cell_type": "markdown",
   "metadata": {
    "id": "vsN5uhdBdCt-"
   },
   "source": [
    "# Python DeCal HW 6: Plotting #\n"
   ]
  },
  {
   "cell_type": "code",
   "execution_count": null,
   "metadata": {
    "id": "d9MKhNzAKs6V"
   },
   "outputs": [],
   "source": [
    "import numpy as np\n",
    "import matplotlib.pyplot as plt"
   ]
  },
  {
   "cell_type": "markdown",
   "metadata": {
    "id": "osdlbS-S_8x8"
   },
   "source": [
    "## Problem 1: Random Plots\n",
    "\n",
    "This problem in an exercise in plotting random data. First you must generate three lists of random numbers, each 40 elements long with values ranging from 0 to 100. Then make two stacked vertical subplots. The top plot should plot one list of random data in orange and with a line width of 10 and another list in red and dashed. The bottom plot should be a scatter plot of the final list with magenta diamonds as the marker. In each case the x coordinate should be the position in the list.\n",
    "\n",
    "<img src=\"q1_result.png\" alt=\"q1 result image\" style=\"height: 400px; width:650px;\"/>\n",
    "\n",
    "\n"
   ]
  },
  {
   "cell_type": "code",
   "execution_count": null,
   "metadata": {
    "id": "RSPap-ygbUMq"
   },
   "outputs": [],
   "source": []
  },
  {
   "cell_type": "markdown",
   "metadata": {
    "id": "0wSR9DxDIphn"
   },
   "source": [
    "## Problem 2: van der Waals Gas\n",
    "\n",
    "A Van der Waals gas is a model of gas particles that takes into account the interaction of the particles and the volume the particles take up. Like the ideal gas law, it relates pressure, volume, amount of gas and temperature. The equation is <br>\n",
    "$\\left(P +a\\frac{n^2}{V^2}\\right)(V-nb) = nRT \\quad (1)$ <br>\n",
    "Where $P$ is pressure, $V$ is volume, $T$ is temperature, $n$ is number of moles, $R$ is the ideal gas constant and $a,b$ are parameters. The value of $R$ is $0.083144 \\frac{barL}{molK}$\n",
    "\n",
    "Make a colormap plot of the temperature of one mole acetone for given volume and pressure. The pressure should vary between 1 and 10 bar and the volume should vary between 10 and 30 liters. For acetone $a = 16.02 \\frac{barL^2}{mol^2}$ and $b = 0.1124 \\frac{L}{mol}$. Make sure your axes labels have the correct values. Also make use of `vmin` and `vmax` to show detail in your color map and add a color bar to the map\n",
    "\n"
   ]
  },
  {
   "cell_type": "code",
   "execution_count": null,
   "metadata": {
    "id": "vU3vhcYnI7Yu"
   },
   "outputs": [],
   "source": []
  },
  {
   "cell_type": "markdown",
   "metadata": {
    "id": "X8WzNKq9I8N-"
   },
   "source": [
    "## Problem 3: Stellar Interiors ##\n",
    "\n",
    "This problem is adapted from Astro 160\n",
    "\n",
    "In stars, there are two main methods of energy transport: radiative diffusion (where photons move energy through gas) and convection (where hot gas and colder gas exchange places). These procecess have associated temperature gradients, describing how the temperature changes as position (radius) inside the star changes. The star can only have one true temperature gradient which sometimes aligns with the radiative (radiative diffusion) or adiabatic (convection) temperature gradient. Convection only occurs when the true temperature gradient is aligned with the adiabatic temeprature gradient.\n",
    "\n",
    "In the files `structure1_00001.txt`, `structure5_00001.txt`, `structure4_00001.txt`, there is data on the radius and temperature gradients for stars of three different masses: $0.5 M_\\odot$, $1 M_\\odot$ and $4 M_\\odot$ respectively. Make a figure with three subplots, half for each star. On each subplots, plot the three temperature gradients, each in a different color and line style, and change the y axis to be logarithmic scale. On these plots indicate the convection zone(s) where the true temperature gradient is much closer to the adiabatic temeprature gradient than the radiative temeprature gradient.\n",
    "\n",
    "The files contain a lot of data, but only some of it is useful to us. Namely the second (2) column contains the radius points of the measurement, the ninth (9) column contains the adiabatic temeprature gradient, the fourteenth (14) column contains the radiative temperature gradient and the fifteenth (15) columns contains the true temperature gradient.\n",
    "\n",
    "\n"
   ]
  },
  {
   "cell_type": "code",
   "execution_count": null,
   "metadata": {
    "id": "uhLC93P9JRdD"
   },
   "outputs": [],
   "source": []
  },
  {
   "cell_type": "markdown",
   "metadata": {
    "id": "qPB5QtTZJVPr"
   },
   "source": [
    "## Problem 4: Monte Carlo $\\pi$ ##\n",
    "\n",
    "Did you know that we can calculate the value of $\\pi$ by generating random numbers? We first generate a whole bunch of random points in a 1x1 square with the corner at the origin. Then we see how many of the points are within a distance 1 of the origin. There points all fall in a quarter of a circle centered on the origin. Then using the relation <br>\n",
    "$\\frac{N_{in}}{N} \\approx \\frac{A_{qc}}{A}$ <br>\n",
    "we can calculate $\\pi$ from the ratio of the areas of a quarter circle and the square.\n",
    "\n",
    "Calculate the value of $\\pi$ using this procedure for N = 1e3, 1e4, 1e5, 1e6, and print your results. Also create a plot of these points for N = 1e4. The points within the quarter circle should all be one color and the points outside should also be a different color. Also please make sure your plot is a square and put the value of pi from that run on your plot as text.\n",
    "\n"
   ]
  },
  {
   "cell_type": "code",
   "execution_count": null,
   "metadata": {
    "id": "mewu3z7iJebl"
   },
   "outputs": [],
   "source": []
  }
 ],
 "metadata": {
  "colab": {
   "provenance": []
  },
  "kernelspec": {
   "display_name": "Python 3 (ipykernel)",
   "language": "python",
   "name": "python3"
  },
  "language_info": {
   "codemirror_mode": {
    "name": "ipython",
    "version": 3
   },
   "file_extension": ".py",
   "mimetype": "text/x-python",
   "name": "python",
   "nbconvert_exporter": "python",
   "pygments_lexer": "ipython3",
   "version": "3.9.12"
  }
 },
 "nbformat": 4,
 "nbformat_minor": 1
}
